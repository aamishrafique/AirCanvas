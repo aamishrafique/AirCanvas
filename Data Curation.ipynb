{
 "cells": [
  {
   "cell_type": "code",
   "execution_count": 6,
   "metadata": {},
   "outputs": [],
   "source": [
    "import os\n",
    "import time\n",
    "\n",
    "from selenium import webdriver\n",
    "from selenium.webdriver.common.by import By\n",
    "from selenium.webdriver.common.keys import Keys\n",
    "from selenium.webdriver.common.action_chains import ActionChains\n",
    "import cairosvg"
   ]
  },
  {
   "cell_type": "code",
   "execution_count": 7,
   "metadata": {},
   "outputs": [
    {
     "name": "stdout",
     "output_type": "stream",
     "text": [
      "Total Equations: 26\n"
     ]
    }
   ],
   "source": [
    "url = \"https://www.calligrapher.ai/\"\n",
    "textbox_id = \"text-input\"\n",
    "download_button_id = \"save-button\"\n",
    "\n",
    "equations_list = [\n",
    "    \"two plus two is four\",\n",
    "    \"three plus three is six\",\n",
    "    \"four plus four is eight\",\n",
    "    \"five plus five is ten\",\n",
    "    \"two plus three is five\",\n",
    "    \"three plus two is five\",\n",
    "    \"two plus four is six\",\n",
    "    \"four plus two is six\",\n",
    "    \"two plus five is seven\",\n",
    "    \"five plus two is seven\",\n",
    "    \"three plus four is seven\",\n",
    "    \"four plus three is seven\",\n",
    "    \"three plus five is eight\",\n",
    "    \"five plus three is eight\",\n",
    "    \"four plus five is nine\",\n",
    "    \"five plus four is nine\",\n",
    "    \"two minus two is zero\",\n",
    "    \"three minus three is zero\",\n",
    "    \"four minus four is zero\",\n",
    "    \"five minus five is zero\",\n",
    "    \"three minus two is one\",\n",
    "    \"four minus two is two\",\n",
    "    \"five minus two is three\",\n",
    "    \"four minus three is one\",\n",
    "    \"five minus three is two\",\n",
    "    \"five minus four is one\",\n",
    "]\n",
    "print(f\"Total Equations: {len(equations_list)}\")"
   ]
  },
  {
   "cell_type": "markdown",
   "metadata": {},
   "source": [
    "# Fine-Tuning Dataset\n"
   ]
  },
  {
   "cell_type": "code",
   "execution_count": null,
   "metadata": {},
   "outputs": [],
   "source": [
    "driver = webdriver.Chrome()\n",
    "driver.get(url)\n",
    "actions = ActionChains(driver)\n",
    "flag = False\n",
    "iterations = 50\n",
    "\n",
    "downloads_folder = os.path.expanduser(\"~/Downloads\")\n",
    "output_folder = os.path.expanduser(\"./Train\")\n",
    "os.makedirs(output_folder, exist_ok=True)\n",
    "\n",
    "for i in range(iterations):\n",
    "    if not flag:\n",
    "        time.sleep(10)\n",
    "        flag = True\n",
    "\n",
    "    for j, equation in enumerate(equations_list):\n",
    "        textbox = driver.find_element(By.ID, textbox_id)\n",
    "        textbox.clear()\n",
    "        textbox.send_keys(equation)\n",
    "\n",
    "        draw_button = driver.find_element(By.ID, \"draw-button\")\n",
    "        draw_button.click()\n",
    "\n",
    "        time.sleep(2)\n",
    "\n",
    "        download_button = driver.find_element(By.ID, download_button_id)\n",
    "        download_button.click()\n",
    "\n",
    "        time.sleep(1)\n",
    "\n",
    "        input_svg = equation.replace(\" \", \"-\") + \".svg\"\n",
    "        output_jpg = f\"{i+1}-\" + equation + \".jpg\"\n",
    "\n",
    "        input_svg_path = os.path.join(downloads_folder, input_svg)\n",
    "        output_jpg_path = os.path.join(output_folder, output_jpg)\n",
    "\n",
    "        cairosvg.svg2png(\n",
    "            url=input_svg_path,\n",
    "            write_to=output_jpg_path,\n",
    "            background_color=\"white\",\n",
    "        )\n",
    "\n",
    "        os.remove(input_svg_path)\n",
    "\n",
    "        print(f\"Iteration: {i+1}/{iterations} - Equation: {j+1}/{len(equations_list)}\")\n",
    "        time.sleep(1)\n",
    "\n",
    "driver.quit()"
   ]
  },
  {
   "cell_type": "markdown",
   "metadata": {},
   "source": [
    "# Evaluation Dataset\n"
   ]
  },
  {
   "cell_type": "code",
   "execution_count": null,
   "metadata": {},
   "outputs": [],
   "source": [
    "driver = webdriver.Chrome()\n",
    "driver.get(url)\n",
    "actions = ActionChains(driver)\n",
    "flag = False\n",
    "iterations = 10\n",
    "\n",
    "downloads_folder = os.path.expanduser(\"~/Downloads\")\n",
    "output_folder = os.path.expanduser(\"./Test\")\n",
    "os.makedirs(output_folder, exist_ok=True)\n",
    "\n",
    "for i in range(iterations):\n",
    "    if not flag:\n",
    "        time.sleep(10)\n",
    "        flag = True\n",
    "\n",
    "    for j, equation in enumerate(equations_list):\n",
    "        textbox = driver.find_element(By.ID, textbox_id)\n",
    "        textbox.clear()\n",
    "        textbox.send_keys(equation)\n",
    "\n",
    "        draw_button = driver.find_element(By.ID, \"draw-button\")\n",
    "        draw_button.click()\n",
    "\n",
    "        time.sleep(2)\n",
    "\n",
    "        download_button = driver.find_element(By.ID, download_button_id)\n",
    "        download_button.click()\n",
    "\n",
    "        time.sleep(1)\n",
    "\n",
    "        input_svg = equation.replace(\" \", \"-\") + \".svg\"\n",
    "        output_jpg = f\"{i+1}-\" + equation + \".jpg\"\n",
    "\n",
    "        input_svg_path = os.path.join(downloads_folder, input_svg)\n",
    "        output_jpg_path = os.path.join(output_folder, output_jpg)\n",
    "\n",
    "        cairosvg.svg2png(\n",
    "            url=input_svg_path,\n",
    "            write_to=output_jpg_path,\n",
    "            background_color=\"white\",\n",
    "        )\n",
    "\n",
    "        os.remove(input_svg_path)\n",
    "\n",
    "        print(f\"Iteration: {i+1}/{iterations} - Equation: {j+1}/{len(equations_list)}\")\n",
    "        time.sleep(1)\n",
    "\n",
    "driver.quit()"
   ]
  },
  {
   "cell_type": "code",
   "execution_count": null,
   "metadata": {},
   "outputs": [],
   "source": []
  }
 ],
 "metadata": {
  "kernelspec": {
   "display_name": "base",
   "language": "python",
   "name": "python3"
  },
  "language_info": {
   "codemirror_mode": {
    "name": "ipython",
    "version": 3
   },
   "file_extension": ".py",
   "mimetype": "text/x-python",
   "name": "python",
   "nbconvert_exporter": "python",
   "pygments_lexer": "ipython3",
   "version": "3.11.5"
  }
 },
 "nbformat": 4,
 "nbformat_minor": 2
}
